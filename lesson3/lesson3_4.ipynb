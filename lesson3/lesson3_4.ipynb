{
 "cells": [
  {
   "cell_type": "code",
   "execution_count": null,
   "id": "d0e783b6",
   "metadata": {},
   "outputs": [],
   "source": [
    "import json\n",
    "from pprint import pprint\n",
    "\n",
    "class Site:\n",
    "      def __init__(self,\n",
    "                 sitename,\n",
    "                 county,\n",
    "                 aqi,\n",
    "                 pollutant,\n",
    "                 status,\n",
    "                 pm2_5,\n",
    "                 pm2_5_avg,\n",
    "                 latitude,\n",
    "                 longitude,\n",
    "                 datacreationdate):      # ← 修正參數名稱\n",
    "        self.sitename = sitename\n",
    "        self.county = county\n",
    "        self.aqi = aqi\n",
    "        self.pollutant = pollutant\n",
    "        self.status = status\n",
    "        self.pm2_5 = pm2_5\n",
    "        self.pm2_5_avg = pm2_5_avg\n",
    "        self.latitude = latitude\n",
    "        self.longitude = longitude\n",
    "        self.datacreationdate = datacreationdate\n",
    "\n",
    "\n"
   ]
  }
 ],
 "metadata": {
  "kernelspec": {
   "display_name": "web_crawler",
   "language": "python",
   "name": "python3"
  },
  "language_info": {
   "name": "python",
   "version": "3.11.13"
  }
 },
 "nbformat": 4,
 "nbformat_minor": 5
}
