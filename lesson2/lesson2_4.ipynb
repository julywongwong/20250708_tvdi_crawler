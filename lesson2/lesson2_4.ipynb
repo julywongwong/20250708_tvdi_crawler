{
 "cells": [
  {
   "cell_type": "code",
   "execution_count": 3,
   "id": "ddf786a6",
   "metadata": {},
   "outputs": [
    {
     "name": "stdout",
     "output_type": "stream",
     "text": [
      "你已滿18歲，可以考駕照！\n"
     ]
    }
   ],
   "source": [
    "age = 18\n",
    "#單向選擇\n",
    "if age >= 18:\n",
    "    print(\"你已滿18歲，可以考駕照！\")\n"
   ]
  },
  {
   "cell_type": "code",
   "execution_count": 4,
   "id": "be3205ac",
   "metadata": {},
   "outputs": [
    {
     "name": "stdout",
     "output_type": "stream",
     "text": [
      "你還未滿18歲，不能考駕照。\n"
     ]
    }
   ],
   "source": [
    "age = 16\n",
    "\n",
    "if age >= 18:\n",
    "    #True\n",
    "    print(\"你已滿18歲，可以考駕照！\")\n",
    "else:\n",
    "    #False\n",
    "    print(\"你還未滿18歲，不能考駕照。\")\n"
   ]
  },
  {
   "cell_type": "code",
   "execution_count": 6,
   "id": "82bc39a2",
   "metadata": {},
   "outputs": [
    {
     "name": "stdout",
     "output_type": "stream",
     "text": [
      "及格\n"
     ]
    }
   ],
   "source": [
    "#多項選擇\n",
    "score = 85\n",
    "\n",
    "if score >= 90:\n",
    "    print(\"成績優異\")\n",
    "elif score >= 60:\n",
    "    print(\"及格\")\n",
    "else:\n",
    "    print(\"不及格\")\n"
   ]
  }
 ],
 "metadata": {
  "kernelspec": {
   "display_name": "web_crawler",
   "language": "python",
   "name": "python3"
  },
  "language_info": {
   "codemirror_mode": {
    "name": "ipython",
    "version": 3
   },
   "file_extension": ".py",
   "mimetype": "text/x-python",
   "name": "python",
   "nbconvert_exporter": "python",
   "pygments_lexer": "ipython3",
   "version": "3.11.13"
  }
 },
 "nbformat": 4,
 "nbformat_minor": 5
}
